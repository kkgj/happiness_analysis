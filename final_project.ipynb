{
 "cells": [
  {
   "cell_type": "code",
   "execution_count": 217,
   "metadata": {},
   "outputs": [],
   "source": [
    "import pandas as pd\n",
    "from matplotlib import pyplot as plt\n",
    "import numpy as np\n",
    "from scipy import stats\n",
    "import seaborn as sns\n",
    "from sklearn.linear_model import LinearRegression\n",
    "from sklearn.metrics import mean_squared_error\n",
    "from sklearn.neighbors import KNeighborsRegressor\n",
    "from sklearn.ensemble import RandomForestRegressor"
   ]
  },
  {
   "cell_type": "code",
   "execution_count": 218,
   "metadata": {},
   "outputs": [
    {
     "data": {
      "text/plain": [
       "Overall rank                    0\n",
       "Country or region               0\n",
       "Score                           0\n",
       "GDP per capita                  0\n",
       "Social support                  0\n",
       "Healthy life expectancy         0\n",
       "Freedom to make life choices    0\n",
       "Generosity                      0\n",
       "Perceptions of corruption       0\n",
       "dtype: int64"
      ]
     },
     "execution_count": 218,
     "metadata": {},
     "output_type": "execute_result"
    }
   ],
   "source": [
    "test = pd.read_csv('2019.csv')\n",
    "test.isnull().sum()"
   ]
  },
  {
   "cell_type": "code",
   "execution_count": 219,
   "metadata": {},
   "outputs": [
    {
     "data": {
      "text/plain": [
       "Overall rank                    0\n",
       "Country or region               0\n",
       "Score                           0\n",
       "GDP per capita                  0\n",
       "Social support                  0\n",
       "Healthy life expectancy         0\n",
       "Freedom to make life choices    0\n",
       "Generosity                      0\n",
       "Perceptions of corruption       0\n",
       "dtype: int64"
      ]
     },
     "execution_count": 219,
     "metadata": {},
     "output_type": "execute_result"
    }
   ],
   "source": [
    "train = pd.read_csv('2018.csv').interpolate(method ='linear', limit_direction ='forward')\n",
    "train.isnull().sum()"
   ]
  },
  {
   "cell_type": "code",
   "execution_count": 220,
   "metadata": {},
   "outputs": [
    {
     "data": {
      "text/plain": [
       "Overall rank                    0\n",
       "Country or region               0\n",
       "Score                           0\n",
       "GDP per capita                  0\n",
       "Social support                  0\n",
       "Healthy life expectancy         0\n",
       "Freedom to make life choices    0\n",
       "Generosity                      0\n",
       "Perceptions of corruption       0\n",
       "dtype: int64"
      ]
     },
     "execution_count": 220,
     "metadata": {},
     "output_type": "execute_result"
    }
   ],
   "source": [
    "data_2017 = pd.read_csv('2017.csv')\n",
    "train.isnull().sum()"
   ]
  },
  {
   "cell_type": "code",
   "execution_count": 221,
   "metadata": {},
   "outputs": [
    {
     "data": {
      "text/plain": [
       "Overall rank                    0\n",
       "Country or region               0\n",
       "Score                           0\n",
       "GDP per capita                  0\n",
       "Social support                  0\n",
       "Healthy life expectancy         0\n",
       "Freedom to make life choices    0\n",
       "Generosity                      0\n",
       "Perceptions of corruption       0\n",
       "dtype: int64"
      ]
     },
     "execution_count": 221,
     "metadata": {},
     "output_type": "execute_result"
    }
   ],
   "source": [
    "data_2016 = pd.read_csv('2016.csv')\n",
    "train.isnull().sum()"
   ]
  },
  {
   "cell_type": "code",
   "execution_count": 222,
   "metadata": {},
   "outputs": [
    {
     "data": {
      "text/plain": [
       "Overall rank                    0\n",
       "Country or region               0\n",
       "Score                           0\n",
       "GDP per capita                  0\n",
       "Social support                  0\n",
       "Healthy life expectancy         0\n",
       "Freedom to make life choices    0\n",
       "Generosity                      0\n",
       "Perceptions of corruption       0\n",
       "dtype: int64"
      ]
     },
     "execution_count": 222,
     "metadata": {},
     "output_type": "execute_result"
    }
   ],
   "source": [
    "data_2015 = pd.read_csv('2015.csv')\n",
    "train.isnull().sum()"
   ]
  },
  {
   "cell_type": "markdown",
   "metadata": {},
   "source": [
    "There is one missing value in 2018 table, I used the interpolate() method to predict the missing value."
   ]
  },
  {
   "cell_type": "code",
   "execution_count": 223,
   "metadata": {},
   "outputs": [
    {
     "name": "stdout",
     "output_type": "stream",
     "text": [
      "2015 Happiness Score: mean: 5.3757341772151905, median 5.2325\n"
     ]
    }
   ],
   "source": [
    "mean_2015 = data_2015['Happiness Score'].mean()\n",
    "median_2015 = data_2015['Happiness Score'].median()\n",
    "print('2015 Happiness Score: mean: ' + str(mean_2015) + ', median ' + str(median_2015))"
   ]
  },
  {
   "cell_type": "code",
   "execution_count": 224,
   "metadata": {},
   "outputs": [
    {
     "name": "stdout",
     "output_type": "stream",
     "text": [
      "2016 Happiness Score: mean: 5.382184713375795, median 5.314\n"
     ]
    }
   ],
   "source": [
    "mean_2016 = data_2016['Happiness Score'].mean()\n",
    "median_2016 = data_2016['Happiness Score'].median()\n",
    "print('2016 Happiness Score: mean: ' + str(mean_2016) + ', median ' + str(median_2016))"
   ]
  },
  {
   "cell_type": "code",
   "execution_count": 225,
   "metadata": {},
   "outputs": [
    {
     "name": "stdout",
     "output_type": "stream",
     "text": [
      "2017 Happiness Score: mean: 5.354019355773926, median 5.27899980545044\n"
     ]
    }
   ],
   "source": [
    "mean_2017 = data_2017['Happiness.Score'].mean()\n",
    "median_2017 = data_2017['Happiness.Score'].median()\n",
    "print('2017 Happiness Score: mean: ' + str(mean_2017) + ', median ' + str(median_2017))"
   ]
  },
  {
   "cell_type": "code",
   "execution_count": 226,
   "metadata": {},
   "outputs": [
    {
     "name": "stdout",
     "output_type": "stream",
     "text": [
      "2018 Happiness Score: mean: 5.375916666666668, median 5.378\n"
     ]
    }
   ],
   "source": [
    "mean_2018 = train['Score'].mean()\n",
    "median_2018 = train['Score'].median()\n",
    "print('2018 Happiness Score: mean: ' + str(mean_2018) + ', median ' + str(median_2018))"
   ]
  },
  {
   "cell_type": "code",
   "execution_count": 227,
   "metadata": {},
   "outputs": [
    {
     "data": {
      "image/png": "[encoded data removed]",
      "text/plain": [
       "<Figure size 504x360 with 1 Axes>"
      ]
     },
     "metadata": {
      "needs_background": "light"
     },
     "output_type": "display_data"
    }
   ],
   "source": [
    "mean = pd.DataFrame({'year': [2015, 2016, 2017, 2018],\n",
    "                     'mean': [mean_2015, mean_2016, mean_2017, mean_2018]})\n",
    "plt.figure(figsize=[7, 5])\n",
    "plt.plot(mean['year'], mean['mean'])\n",
    "plt.xticks([2015, 2016, 2017, 2018])\n",
    "plt.ylabel('average happiness score')\n",
    "plt.xlabel('year')\n",
    "plt.title('Average Happiness Over the Years')\n",
    "plt.show()"
   ]
  },
  {
   "cell_type": "code",
   "execution_count": 228,
   "metadata": {},
   "outputs": [
    {
     "data": {
      "image/png": "[encoded data removed]",
      "text/plain": [
       "<Figure size 504x360 with 1 Axes>"
      ]
     },
     "metadata": {
      "needs_background": "light"
     },
     "output_type": "display_data"
    }
   ],
   "source": [
    "median = pd.DataFrame({'year': [2015, 2016, 2017, 2018],\n",
    "                     'median': [median_2015, median_2016, median_2017, median_2018]})\n",
    "plt.figure(figsize=[7, 5])\n",
    "plt.plot(mean['year'], median['median'])\n",
    "plt.xticks([2015, 2016, 2017, 2018])\n",
    "plt.ylabel('median happiness score')\n",
    "plt.xlabel('year')\n",
    "plt.title('Median Happiness Over the Years')\n",
    "plt.show()"
   ]
  },
  {
   "cell_type": "markdown",
   "metadata": {},
   "source": [
    "The central tendencies of happiness score are increasing in general."
   ]
  },
  {
   "cell_type": "code",
   "execution_count": 229,
   "metadata": {},
   "outputs": [
    {
     "data": {
      "text/html": [
       "<div>\n",
       "<style scoped>\n",
       "    .dataframe tbody tr th:only-of-type {\n",
       "        vertical-align: middle;\n",
       "    }\n",
       "\n",
       "    .dataframe tbody tr th {\n",
       "        vertical-align: top;\n",
       "    }\n",
       "\n",
       "    .dataframe thead th {\n",
       "        text-align: right;\n",
       "    }\n",
       "</style>\n",
       "<table border=\"1\" class=\"dataframe\">\n",
       "  <thead>\n",
       "    <tr style=\"text-align: right;\">\n",
       "      <th></th>\n",
       "      <th>Country</th>\n",
       "      <th>change</th>\n",
       "    </tr>\n",
       "  </thead>\n",
       "  <tbody>\n",
       "    <tr>\n",
       "      <th>6</th>\n",
       "      <td>Netherlands</td>\n",
       "      <td>1</td>\n",
       "    </tr>\n",
       "    <tr>\n",
       "      <th>8</th>\n",
       "      <td>New Zealand</td>\n",
       "      <td>1</td>\n",
       "    </tr>\n",
       "    <tr>\n",
       "      <th>1</th>\n",
       "      <td>Iceland</td>\n",
       "      <td>2</td>\n",
       "    </tr>\n",
       "    <tr>\n",
       "      <th>4</th>\n",
       "      <td>Canada</td>\n",
       "      <td>2</td>\n",
       "    </tr>\n",
       "    <tr>\n",
       "      <th>9</th>\n",
       "      <td>Australia</td>\n",
       "      <td>2</td>\n",
       "    </tr>\n",
       "    <tr>\n",
       "      <th>18</th>\n",
       "      <td>Belgium</td>\n",
       "      <td>3</td>\n",
       "    </tr>\n",
       "    <tr>\n",
       "      <th>7</th>\n",
       "      <td>Sweden</td>\n",
       "      <td>3</td>\n",
       "    </tr>\n",
       "    <tr>\n",
       "      <th>139</th>\n",
       "      <td>Rwanda</td>\n",
       "      <td>3</td>\n",
       "    </tr>\n",
       "    <tr>\n",
       "      <th>12</th>\n",
       "      <td>Austria</td>\n",
       "      <td>3</td>\n",
       "    </tr>\n",
       "    <tr>\n",
       "      <th>45</th>\n",
       "      <td>Italy</td>\n",
       "      <td>3</td>\n",
       "    </tr>\n",
       "  </tbody>\n",
       "</table>\n",
       "</div>"
      ],
      "text/plain": [
       "         Country  change\n",
       "6    Netherlands       1\n",
       "8    New Zealand       1\n",
       "1        Iceland       2\n",
       "4         Canada       2\n",
       "9      Australia       2\n",
       "18       Belgium       3\n",
       "7         Sweden       3\n",
       "139       Rwanda       3\n",
       "12       Austria       3\n",
       "45         Italy       3"
      ]
     },
     "execution_count": 229,
     "metadata": {},
     "output_type": "execute_result"
    }
   ],
   "source": [
    "rank = data_2015[['Country', 'Happiness Rank']].merge(data_2016[['Country', 'Happiness Rank']]\n",
    "                                                      , left_on='Country', right_on='Country')\n",
    "rank = rank.merge(data_2017[['Country', 'Happiness.Rank']], left_on='Country', right_on='Country')\n",
    "rank = rank.merge(train[['Country or region', 'Overall rank']], left_on='Country', right_on='Country or region')\n",
    "rank['change'] = (np.abs(rank['Happiness Rank_y'] - rank['Happiness Rank_x']) \n",
    "                                   + np.abs(rank['Happiness.Rank'] - rank['Happiness Rank_y'])\n",
    "                                   + np.abs(rank['Overall rank'] - rank['Happiness.Rank']))\n",
    "rank[['Country', 'change']].sort_values(by='change').head(10)"
   ]
  },
  {
   "cell_type": "markdown",
   "metadata": {},
   "source": [
    "As we may see from the table, New Zealand and Netherlands have the most stable rankings over the years."
   ]
  },
  {
   "cell_type": "code",
   "execution_count": 230,
   "metadata": {},
   "outputs": [
    {
     "data": {
      "text/html": [
       "<div>\n",
       "<style scoped>\n",
       "    .dataframe tbody tr th:only-of-type {\n",
       "        vertical-align: middle;\n",
       "    }\n",
       "\n",
       "    .dataframe tbody tr th {\n",
       "        vertical-align: top;\n",
       "    }\n",
       "\n",
       "    .dataframe thead th {\n",
       "        text-align: right;\n",
       "    }\n",
       "</style>\n",
       "<table border=\"1\" class=\"dataframe\">\n",
       "  <thead>\n",
       "    <tr style=\"text-align: right;\">\n",
       "      <th></th>\n",
       "      <th>Country</th>\n",
       "      <th>increase</th>\n",
       "    </tr>\n",
       "  </thead>\n",
       "  <tbody>\n",
       "    <tr>\n",
       "      <th>136</th>\n",
       "      <td>Ivory Coast</td>\n",
       "      <td>44</td>\n",
       "    </tr>\n",
       "    <tr>\n",
       "      <th>129</th>\n",
       "      <td>Gabon</td>\n",
       "      <td>40</td>\n",
       "    </tr>\n",
       "    <tr>\n",
       "      <th>82</th>\n",
       "      <td>Latvia</td>\n",
       "      <td>36</td>\n",
       "    </tr>\n",
       "    <tr>\n",
       "      <th>92</th>\n",
       "      <td>Hungary</td>\n",
       "      <td>35</td>\n",
       "    </tr>\n",
       "    <tr>\n",
       "      <th>121</th>\n",
       "      <td>Bulgaria</td>\n",
       "      <td>34</td>\n",
       "    </tr>\n",
       "    <tr>\n",
       "      <th>...</th>\n",
       "      <td>...</td>\n",
       "      <td>...</td>\n",
       "    </tr>\n",
       "    <tr>\n",
       "      <th>113</th>\n",
       "      <td>Kenya</td>\n",
       "      <td>1</td>\n",
       "    </tr>\n",
       "    <tr>\n",
       "      <th>30</th>\n",
       "      <td>Uruguay</td>\n",
       "      <td>1</td>\n",
       "    </tr>\n",
       "    <tr>\n",
       "      <th>28</th>\n",
       "      <td>Argentina</td>\n",
       "      <td>1</td>\n",
       "    </tr>\n",
       "    <tr>\n",
       "      <th>6</th>\n",
       "      <td>Netherlands</td>\n",
       "      <td>1</td>\n",
       "    </tr>\n",
       "    <tr>\n",
       "      <th>142</th>\n",
       "      <td>Burundi</td>\n",
       "      <td>1</td>\n",
       "    </tr>\n",
       "  </tbody>\n",
       "</table>\n",
       "<p>81 rows × 2 columns</p>\n",
       "</div>"
      ],
      "text/plain": [
       "         Country  increase\n",
       "136  Ivory Coast        44\n",
       "129        Gabon        40\n",
       "82        Latvia        36\n",
       "92       Hungary        35\n",
       "121     Bulgaria        34\n",
       "..           ...       ...\n",
       "113        Kenya         1\n",
       "30       Uruguay         1\n",
       "28     Argentina         1\n",
       "6    Netherlands         1\n",
       "142      Burundi         1\n",
       "\n",
       "[81 rows x 2 columns]"
      ]
     },
     "execution_count": 230,
     "metadata": {},
     "output_type": "execute_result"
    }
   ],
   "source": [
    "rank['increase'] = rank['Happiness Rank_x'] -  rank['Overall rank']\n",
    "rank = rank[['Country', 'increase']].sort_values(by='increase', ascending=False)\n",
    "rank[rank['increase'] > 0]"
   ]
  },
  {
   "cell_type": "markdown",
   "metadata": {},
   "source": [
    "There are a lot of countries that improved their rankings. Ivory Coast improved the most ranks from 2015 to 2019, which is 44. Gabon is second and Latvia is the third."
   ]
  },
  {
   "cell_type": "code",
   "execution_count": 231,
   "metadata": {},
   "outputs": [
    {
     "name": "stdout",
     "output_type": "stream",
     "text": [
      "The correlation coefficient between GDP and Happiness Score is 0.8021239467301906\n"
     ]
    }
   ],
   "source": [
    "coef = stats.pearsonr(train['GDP per capita'], train['Score'])\n",
    "coef_happiness = coef[0]\n",
    "print('The correlation coefficient between GDP and Happiness Score is ' + str(coef_happiness))"
   ]
  },
  {
   "cell_type": "code",
   "execution_count": 232,
   "metadata": {},
   "outputs": [
    {
     "data": {
      "image/png": "[encoded data removed]",
      "text/plain": [
       "<Figure size 576x432 with 1 Axes>"
      ]
     },
     "metadata": {
      "needs_background": "light"
     },
     "output_type": "display_data"
    }
   ],
   "source": [
    "plt.figure(figsize=[8, 6])\n",
    "sns.regplot(train['GDP per capita'], train['Score'])\n",
    "plt.xlabel('GDP per capita')\n",
    "plt.ylabel('Score')\n",
    "plt.title('GDP and Happiness Score')\n",
    "plt.show()"
   ]
  },
  {
   "cell_type": "code",
   "execution_count": 233,
   "metadata": {},
   "outputs": [
    {
     "name": "stdout",
     "output_type": "stream",
     "text": [
      "The correlation coefficient between Freedom and Happiness Score is 0.5442799358332934\n"
     ]
    }
   ],
   "source": [
    "coef = stats.pearsonr(train['Freedom to make life choices'], train['Score'])\n",
    "coef_freedom = coef[0]\n",
    "print('The correlation coefficient between Freedom and Happiness Score is ' + str(coef_freedom))"
   ]
  },
  {
   "cell_type": "code",
   "execution_count": 234,
   "metadata": {},
   "outputs": [
    {
     "data": {
      "image/png": "[encoded data removed]",
      "text/plain": [
       "<Figure size 576x432 with 1 Axes>"
      ]
     },
     "metadata": {
      "needs_background": "light"
     },
     "output_type": "display_data"
    }
   ],
   "source": [
    "plt.figure(figsize=[8, 6])\n",
    "sns.regplot(train['Freedom to make life choices'], train['Score'])\n",
    "plt.xlabel('Freedom')\n",
    "plt.ylabel('Score')\n",
    "plt.title('Freedom and Happiness Score')\n",
    "plt.show()"
   ]
  },
  {
   "cell_type": "code",
   "execution_count": 235,
   "metadata": {},
   "outputs": [
    {
     "name": "stdout",
     "output_type": "stream",
     "text": [
      "The correlation coefficient between Social Support and Happiness Score is 0.7457601649725754\n"
     ]
    }
   ],
   "source": [
    "coef = stats.pearsonr(train['Social support'], train['Score'])\n",
    "coef_social = coef[0]\n",
    "print('The correlation coefficient between Social Support and Happiness Score is ' + str(coef_social))"
   ]
  },
  {
   "cell_type": "code",
   "execution_count": 236,
   "metadata": {},
   "outputs": [
    {
     "data": {
      "image/png": "[encoded data removed]",
      "text/plain": [
       "<Figure size 576x432 with 1 Axes>"
      ]
     },
     "metadata": {
      "needs_background": "light"
     },
     "output_type": "display_data"
    }
   ],
   "source": [
    "plt.figure(figsize=[8, 6])\n",
    "sns.regplot(train['Social support'], train['Score'])\n",
    "plt.xlabel('Social Support')\n",
    "plt.ylabel('Score')\n",
    "plt.title('Social Support and Happiness Score')\n",
    "plt.show()"
   ]
  },
  {
   "cell_type": "code",
   "execution_count": 237,
   "metadata": {},
   "outputs": [
    {
     "name": "stdout",
     "output_type": "stream",
     "text": [
      "The correlation coefficient between Healthy life expectancy and Happiness Score is 0.7758136033302458\n"
     ]
    }
   ],
   "source": [
    "coef = stats.pearsonr(train['Healthy life expectancy'], train['Score'])\n",
    "coef_health = coef[0]\n",
    "print('The correlation coefficient between Healthy life expectancy and Happiness Score is ' + str(coef_health))"
   ]
  },
  {
   "cell_type": "code",
   "execution_count": 238,
   "metadata": {},
   "outputs": [
    {
     "data": {
      "image/png": "[encoded data removed]",
      "text/plain": [
       "<Figure size 576x432 with 1 Axes>"
      ]
     },
     "metadata": {
      "needs_background": "light"
     },
     "output_type": "display_data"
    }
   ],
   "source": [
    "plt.figure(figsize=[8, 6])\n",
    "sns.regplot(train['Healthy life expectancy'], train['Score'])\n",
    "plt.xlabel('Healthy life expectancy')\n",
    "plt.ylabel('Score')\n",
    "plt.title('Healthy life and Happiness Score')\n",
    "plt.show()"
   ]
  },
  {
   "cell_type": "code",
   "execution_count": 239,
   "metadata": {},
   "outputs": [
    {
     "name": "stdout",
     "output_type": "stream",
     "text": [
      "The correlation coefficient between Generosity and Happiness Score is 0.13582474708113768\n"
     ]
    }
   ],
   "source": [
    "coef = stats.pearsonr(train['Generosity'], train['Score'])\n",
    "coef_generoisity = coef[0]\n",
    "print('The correlation coefficient between Generosity and Happiness Score is ' + str(coef_generoisity))"
   ]
  },
  {
   "cell_type": "code",
   "execution_count": 240,
   "metadata": {},
   "outputs": [
    {
     "data": {
      "image/png": "[encoded data removed]",
      "text/plain": [
       "<Figure size 576x432 with 1 Axes>"
      ]
     },
     "metadata": {
      "needs_background": "light"
     },
     "output_type": "display_data"
    }
   ],
   "source": [
    "plt.figure(figsize=[8, 6])\n",
    "sns.regplot(train['Generosity'], train['Score'])\n",
    "plt.xlabel('Generosity')\n",
    "plt.ylabel('Score')\n",
    "plt.title('Generosity and Happiness Score')\n",
    "plt.show()"
   ]
  },
  {
   "cell_type": "code",
   "execution_count": 241,
   "metadata": {},
   "outputs": [
    {
     "name": "stdout",
     "output_type": "stream",
     "text": [
      "The correlation coefficient between Perceptions of corruption and Happiness Score is 0.4064320705947886\n"
     ]
    }
   ],
   "source": [
    "coef = stats.pearsonr(train['Perceptions of corruption'], train['Score'])\n",
    "coef_corruption = coef[0]\n",
    "print('The correlation coefficient between Perceptions of corruption and Happiness Score is ' + str(coef_corruption))"
   ]
  },
  {
   "cell_type": "code",
   "execution_count": 242,
   "metadata": {},
   "outputs": [
    {
     "data": {
      "image/png": "[encoded data removed]",
      "text/plain": [
       "<Figure size 576x432 with 1 Axes>"
      ]
     },
     "metadata": {
      "needs_background": "light"
     },
     "output_type": "display_data"
    }
   ],
   "source": [
    "plt.figure(figsize=[8, 6])\n",
    "sns.regplot(train['Perceptions of corruption'], train['Score'])\n",
    "plt.xlabel('Perceptions of corruption')\n",
    "plt.ylabel('Score')\n",
    "plt.title('Perceptions of corruption and Happiness Score')\n",
    "plt.show()"
   ]
  },
  {
   "cell_type": "markdown",
   "metadata": {},
   "source": [
    "'GDP per capita', 'Healthy life expectancy', 'Freedom to make life choices', 'Social support' and 'Perceptions of corruption' all contribute to happiness. If I were the president of a country, I will try to improve GDP per capita, Healthy life expectancy, and Social support of citizens. "
   ]
  },
  {
   "cell_type": "code",
   "execution_count": 243,
   "metadata": {},
   "outputs": [
    {
     "data": {
      "text/html": [
       "<div>\n",
       "<style scoped>\n",
       "    .dataframe tbody tr th:only-of-type {\n",
       "        vertical-align: middle;\n",
       "    }\n",
       "\n",
       "    .dataframe tbody tr th {\n",
       "        vertical-align: top;\n",
       "    }\n",
       "\n",
       "    .dataframe thead th {\n",
       "        text-align: right;\n",
       "    }\n",
       "</style>\n",
       "<table border=\"1\" class=\"dataframe\">\n",
       "  <thead>\n",
       "    <tr style=\"text-align: right;\">\n",
       "      <th></th>\n",
       "      <th>Score</th>\n",
       "      <th>predict</th>\n",
       "    </tr>\n",
       "  </thead>\n",
       "  <tbody>\n",
       "    <tr>\n",
       "      <th>33</th>\n",
       "      <td>6.262</td>\n",
       "      <td>7.246345</td>\n",
       "    </tr>\n",
       "    <tr>\n",
       "      <th>26</th>\n",
       "      <td>6.436</td>\n",
       "      <td>5.536679</td>\n",
       "    </tr>\n",
       "    <tr>\n",
       "      <th>78</th>\n",
       "      <td>5.373</td>\n",
       "      <td>5.599684</td>\n",
       "    </tr>\n",
       "    <tr>\n",
       "      <th>119</th>\n",
       "      <td>4.516</td>\n",
       "      <td>4.315224</td>\n",
       "    </tr>\n",
       "    <tr>\n",
       "      <th>113</th>\n",
       "      <td>4.628</td>\n",
       "      <td>3.732519</td>\n",
       "    </tr>\n",
       "    <tr>\n",
       "      <th>65</th>\n",
       "      <td>5.693</td>\n",
       "      <td>6.218054</td>\n",
       "    </tr>\n",
       "    <tr>\n",
       "      <th>89</th>\n",
       "      <td>5.208</td>\n",
       "      <td>5.439062</td>\n",
       "    </tr>\n",
       "    <tr>\n",
       "      <th>142</th>\n",
       "      <td>3.933</td>\n",
       "      <td>3.892865</td>\n",
       "    </tr>\n",
       "    <tr>\n",
       "      <th>4</th>\n",
       "      <td>7.488</td>\n",
       "      <td>6.918778</td>\n",
       "    </tr>\n",
       "    <tr>\n",
       "      <th>48</th>\n",
       "      <td>6.046</td>\n",
       "      <td>6.041842</td>\n",
       "    </tr>\n",
       "  </tbody>\n",
       "</table>\n",
       "</div>"
      ],
      "text/plain": [
       "     Score   predict\n",
       "33   6.262  7.246345\n",
       "26   6.436  5.536679\n",
       "78   5.373  5.599684\n",
       "119  4.516  4.315224\n",
       "113  4.628  3.732519\n",
       "65   5.693  6.218054\n",
       "89   5.208  5.439062\n",
       "142  3.933  3.892865\n",
       "4    7.488  6.918778\n",
       "48   6.046  6.041842"
      ]
     },
     "execution_count": 243,
     "metadata": {},
     "output_type": "execute_result"
    }
   ],
   "source": [
    "reg = LinearRegression().fit(train[['GDP per capita', 'Social support',\n",
    "                'Healthy life expectancy', 'Freedom to make life choices',\n",
    "                'Generosity', 'Perceptions of corruption']],train['Score'])\n",
    "test['predict'] = reg.predict(test[['GDP per capita', 'Social support',\n",
    "                'Healthy life expectancy', 'Freedom to make life choices',\n",
    "                'Generosity', 'Perceptions of corruption']])\n",
    "test[['Score', 'predict']].sample(10)"
   ]
  },
  {
   "cell_type": "code",
   "execution_count": 244,
   "metadata": {},
   "outputs": [
    {
     "name": "stdout",
     "output_type": "stream",
     "text": [
      "Mean sqaured error: 0.2760758783079982\n"
     ]
    }
   ],
   "source": [
    "print('Mean sqaured error: ' + str(mean_squared_error(test['Score'], test['predict'])))"
   ]
  },
  {
   "cell_type": "code",
   "execution_count": 245,
   "metadata": {},
   "outputs": [
    {
     "data": {
      "text/plain": [
       "array([1.08713868, 1.01415649, 0.81830852, 1.36413137, 0.57088431,\n",
       "       0.71190545])"
      ]
     },
     "execution_count": 245,
     "metadata": {},
     "output_type": "execute_result"
    }
   ],
   "source": [
    "reg.coef_"
   ]
  },
  {
   "cell_type": "code",
   "execution_count": 246,
   "metadata": {},
   "outputs": [
    {
     "data": {
      "text/plain": [
       "1.8843017967242233"
      ]
     },
     "execution_count": 246,
     "metadata": {},
     "output_type": "execute_result"
    }
   ],
   "source": [
    "reg.intercept_"
   ]
  },
  {
   "cell_type": "code",
   "execution_count": 247,
   "metadata": {},
   "outputs": [
    {
     "data": {
      "text/html": [
       "<div>\n",
       "<style scoped>\n",
       "    .dataframe tbody tr th:only-of-type {\n",
       "        vertical-align: middle;\n",
       "    }\n",
       "\n",
       "    .dataframe tbody tr th {\n",
       "        vertical-align: top;\n",
       "    }\n",
       "\n",
       "    .dataframe thead th {\n",
       "        text-align: right;\n",
       "    }\n",
       "</style>\n",
       "<table border=\"1\" class=\"dataframe\">\n",
       "  <thead>\n",
       "    <tr style=\"text-align: right;\">\n",
       "      <th></th>\n",
       "      <th>Country or region</th>\n",
       "      <th>Score</th>\n",
       "      <th>predict</th>\n",
       "    </tr>\n",
       "  </thead>\n",
       "  <tbody>\n",
       "    <tr>\n",
       "      <th>64</th>\n",
       "      <td>Peru</td>\n",
       "      <td>5.697</td>\n",
       "      <td>5.832268</td>\n",
       "    </tr>\n",
       "    <tr>\n",
       "      <th>44</th>\n",
       "      <td>Nicaragua</td>\n",
       "      <td>6.105</td>\n",
       "      <td>5.922837</td>\n",
       "    </tr>\n",
       "    <tr>\n",
       "      <th>152</th>\n",
       "      <td>Tanzania</td>\n",
       "      <td>3.231</td>\n",
       "      <td>4.448691</td>\n",
       "    </tr>\n",
       "    <tr>\n",
       "      <th>56</th>\n",
       "      <td>Mauritius</td>\n",
       "      <td>5.888</td>\n",
       "      <td>6.245111</td>\n",
       "    </tr>\n",
       "    <tr>\n",
       "      <th>30</th>\n",
       "      <td>Panama</td>\n",
       "      <td>6.321</td>\n",
       "      <td>6.156398</td>\n",
       "    </tr>\n",
       "    <tr>\n",
       "      <th>72</th>\n",
       "      <td>Montenegro</td>\n",
       "      <td>5.523</td>\n",
       "      <td>5.578983</td>\n",
       "    </tr>\n",
       "    <tr>\n",
       "      <th>37</th>\n",
       "      <td>Slovakia</td>\n",
       "      <td>6.198</td>\n",
       "      <td>6.266512</td>\n",
       "    </tr>\n",
       "    <tr>\n",
       "      <th>8</th>\n",
       "      <td>Canada</td>\n",
       "      <td>7.278</td>\n",
       "      <td>6.761847</td>\n",
       "    </tr>\n",
       "    <tr>\n",
       "      <th>1</th>\n",
       "      <td>Denmark</td>\n",
       "      <td>7.600</td>\n",
       "      <td>6.764664</td>\n",
       "    </tr>\n",
       "    <tr>\n",
       "      <th>23</th>\n",
       "      <td>France</td>\n",
       "      <td>6.592</td>\n",
       "      <td>6.196025</td>\n",
       "    </tr>\n",
       "  </tbody>\n",
       "</table>\n",
       "</div>"
      ],
      "text/plain": [
       "    Country or region  Score   predict\n",
       "64               Peru  5.697  5.832268\n",
       "44          Nicaragua  6.105  5.922837\n",
       "152          Tanzania  3.231  4.448691\n",
       "56          Mauritius  5.888  6.245111\n",
       "30             Panama  6.321  6.156398\n",
       "72         Montenegro  5.523  5.578983\n",
       "37           Slovakia  6.198  6.266512\n",
       "8              Canada  7.278  6.761847\n",
       "1             Denmark  7.600  6.764664\n",
       "23             France  6.592  6.196025"
      ]
     },
     "execution_count": 247,
     "metadata": {},
     "output_type": "execute_result"
    }
   ],
   "source": [
    "regr = RandomForestRegressor(max_depth=8, random_state=1)\n",
    "regr.fit(train[['GDP per capita', 'Social support',\n",
    "                'Healthy life expectancy', 'Freedom to make life choices',\n",
    "                'Generosity', 'Perceptions of corruption']],train['Score']) \n",
    "test['predict'] = regr.predict(test[['GDP per capita', 'Social support',\n",
    "                'Healthy life expectancy', 'Freedom to make life choices',\n",
    "                'Generosity', 'Perceptions of corruption']])\n",
    "test[['Country or region', 'Score', 'predict']].sample(10)"
   ]
  },
  {
   "cell_type": "code",
   "execution_count": 248,
   "metadata": {},
   "outputs": [
    {
     "name": "stdout",
     "output_type": "stream",
     "text": [
      "Mean sqaured error: 0.2399601901659083\n"
     ]
    }
   ],
   "source": [
    "print('Mean sqaured error: ' + str(mean_squared_error(test['Score'], test['predict'])))"
   ]
  },
  {
   "cell_type": "code",
   "execution_count": 249,
   "metadata": {},
   "outputs": [
    {
     "data": {
      "text/html": [
       "<div>\n",
       "<style scoped>\n",
       "    .dataframe tbody tr th:only-of-type {\n",
       "        vertical-align: middle;\n",
       "    }\n",
       "\n",
       "    .dataframe tbody tr th {\n",
       "        vertical-align: top;\n",
       "    }\n",
       "\n",
       "    .dataframe thead th {\n",
       "        text-align: right;\n",
       "    }\n",
       "</style>\n",
       "<table border=\"1\" class=\"dataframe\">\n",
       "  <thead>\n",
       "    <tr style=\"text-align: right;\">\n",
       "      <th></th>\n",
       "      <th>Country or region</th>\n",
       "      <th>Score</th>\n",
       "      <th>predict</th>\n",
       "    </tr>\n",
       "  </thead>\n",
       "  <tbody>\n",
       "    <tr>\n",
       "      <th>154</th>\n",
       "      <td>Central African Republic</td>\n",
       "      <td>3.083</td>\n",
       "      <td>3.6120</td>\n",
       "    </tr>\n",
       "    <tr>\n",
       "      <th>27</th>\n",
       "      <td>Saudi Arabia</td>\n",
       "      <td>6.375</td>\n",
       "      <td>6.4060</td>\n",
       "    </tr>\n",
       "    <tr>\n",
       "      <th>74</th>\n",
       "      <td>Croatia</td>\n",
       "      <td>5.432</td>\n",
       "      <td>5.8185</td>\n",
       "    </tr>\n",
       "    <tr>\n",
       "      <th>79</th>\n",
       "      <td>Malaysia</td>\n",
       "      <td>5.339</td>\n",
       "      <td>5.7985</td>\n",
       "    </tr>\n",
       "    <tr>\n",
       "      <th>103</th>\n",
       "      <td>Gabon</td>\n",
       "      <td>4.799</td>\n",
       "      <td>4.9795</td>\n",
       "    </tr>\n",
       "    <tr>\n",
       "      <th>134</th>\n",
       "      <td>Swaziland</td>\n",
       "      <td>4.212</td>\n",
       "      <td>4.4815</td>\n",
       "    </tr>\n",
       "    <tr>\n",
       "      <th>123</th>\n",
       "      <td>Tunisia</td>\n",
       "      <td>4.461</td>\n",
       "      <td>4.4565</td>\n",
       "    </tr>\n",
       "    <tr>\n",
       "      <th>138</th>\n",
       "      <td>Togo</td>\n",
       "      <td>4.085</td>\n",
       "      <td>3.8155</td>\n",
       "    </tr>\n",
       "    <tr>\n",
       "      <th>30</th>\n",
       "      <td>Panama</td>\n",
       "      <td>6.321</td>\n",
       "      <td>6.0605</td>\n",
       "    </tr>\n",
       "    <tr>\n",
       "      <th>95</th>\n",
       "      <td>Cameroon</td>\n",
       "      <td>5.044</td>\n",
       "      <td>4.8160</td>\n",
       "    </tr>\n",
       "  </tbody>\n",
       "</table>\n",
       "</div>"
      ],
      "text/plain": [
       "            Country or region  Score  predict\n",
       "154  Central African Republic  3.083   3.6120\n",
       "27               Saudi Arabia  6.375   6.4060\n",
       "74                    Croatia  5.432   5.8185\n",
       "79                   Malaysia  5.339   5.7985\n",
       "103                     Gabon  4.799   4.9795\n",
       "134                 Swaziland  4.212   4.4815\n",
       "123                   Tunisia  4.461   4.4565\n",
       "138                      Togo  4.085   3.8155\n",
       "30                     Panama  6.321   6.0605\n",
       "95                   Cameroon  5.044   4.8160"
      ]
     },
     "execution_count": 249,
     "metadata": {},
     "output_type": "execute_result"
    }
   ],
   "source": [
    "neigh = KNeighborsRegressor(n_neighbors=2)\n",
    "neigh.fit(train[['GDP per capita', 'Social support',\n",
    "                'Healthy life expectancy', 'Freedom to make life choices',\n",
    "                'Generosity', 'Perceptions of corruption']],train['Score']) \n",
    "test['predict'] = neigh.predict(test[['GDP per capita', 'Social support',\n",
    "                'Healthy life expectancy', 'Freedom to make life choices',\n",
    "                'Generosity', 'Perceptions of corruption']])\n",
    "test[['Country or region', 'Score', 'predict']].sample(10)"
   ]
  },
  {
   "cell_type": "code",
   "execution_count": 250,
   "metadata": {},
   "outputs": [
    {
     "name": "stdout",
     "output_type": "stream",
     "text": [
      "Mean sqaured error: 0.16444264583333323\n"
     ]
    }
   ],
   "source": [
    "print('Mean sqaured error: ' + str(mean_squared_error(test['Score'], test['predict'])))"
   ]
  },
  {
   "cell_type": "markdown",
   "metadata": {},
   "source": [
    "KNeighborsRegressor performed the best, RandomForestRegressor is second, and the LinearRegression is the third."
   ]
  },
  {
   "cell_type": "code",
   "execution_count": 251,
   "metadata": {},
   "outputs": [
    {
     "data": {
      "text/html": [
       "<div>\n",
       "<style scoped>\n",
       "    .dataframe tbody tr th:only-of-type {\n",
       "        vertical-align: middle;\n",
       "    }\n",
       "\n",
       "    .dataframe tbody tr th {\n",
       "        vertical-align: top;\n",
       "    }\n",
       "\n",
       "    .dataframe thead th {\n",
       "        text-align: right;\n",
       "    }\n",
       "</style>\n",
       "<table border=\"1\" class=\"dataframe\">\n",
       "  <thead>\n",
       "    <tr style=\"text-align: right;\">\n",
       "      <th></th>\n",
       "      <th>Score</th>\n",
       "      <th>predict</th>\n",
       "    </tr>\n",
       "  </thead>\n",
       "  <tbody>\n",
       "    <tr>\n",
       "      <th>0</th>\n",
       "      <td>7.769</td>\n",
       "      <td>6.937533</td>\n",
       "    </tr>\n",
       "    <tr>\n",
       "      <th>1</th>\n",
       "      <td>7.600</td>\n",
       "      <td>7.041428</td>\n",
       "    </tr>\n",
       "    <tr>\n",
       "      <th>2</th>\n",
       "      <td>7.554</td>\n",
       "      <td>7.167622</td>\n",
       "    </tr>\n",
       "    <tr>\n",
       "      <th>3</th>\n",
       "      <td>7.494</td>\n",
       "      <td>6.963427</td>\n",
       "    </tr>\n",
       "    <tr>\n",
       "      <th>4</th>\n",
       "      <td>7.488</td>\n",
       "      <td>6.918778</td>\n",
       "    </tr>\n",
       "    <tr>\n",
       "      <th>...</th>\n",
       "      <td>...</td>\n",
       "      <td>...</td>\n",
       "    </tr>\n",
       "    <tr>\n",
       "      <th>151</th>\n",
       "      <td>3.334</td>\n",
       "      <td>4.671659</td>\n",
       "    </tr>\n",
       "    <tr>\n",
       "      <th>152</th>\n",
       "      <td>3.231</td>\n",
       "      <td>4.538701</td>\n",
       "    </tr>\n",
       "    <tr>\n",
       "      <th>153</th>\n",
       "      <td>3.203</td>\n",
       "      <td>3.192526</td>\n",
       "    </tr>\n",
       "    <tr>\n",
       "      <th>154</th>\n",
       "      <td>3.083</td>\n",
       "      <td>2.464494</td>\n",
       "    </tr>\n",
       "    <tr>\n",
       "      <th>155</th>\n",
       "      <td>2.853</td>\n",
       "      <td>3.235251</td>\n",
       "    </tr>\n",
       "  </tbody>\n",
       "</table>\n",
       "<p>156 rows × 2 columns</p>\n",
       "</div>"
      ],
      "text/plain": [
       "     Score   predict\n",
       "0    7.769  6.937533\n",
       "1    7.600  7.041428\n",
       "2    7.554  7.167622\n",
       "3    7.494  6.963427\n",
       "4    7.488  6.918778\n",
       "..     ...       ...\n",
       "151  3.334  4.671659\n",
       "152  3.231  4.538701\n",
       "153  3.203  3.192526\n",
       "154  3.083  2.464494\n",
       "155  2.853  3.235251\n",
       "\n",
       "[156 rows x 2 columns]"
      ]
     },
     "execution_count": 251,
     "metadata": {},
     "output_type": "execute_result"
    }
   ],
   "source": [
    "test['predict'] = (test['GDP per capita'] * 1.08713868 + test['Social support']\n",
    "                * 1.01415649 + test['Healthy life expectancy'] * 0.81830852\n",
    "                + test['Freedom to make life choices'] * 1.36413137 + test['Generosity']\n",
    "                * 0.57088431 + test['Perceptions of corruption'] * 0.71190545 + 1.8843017967242233)\n",
    "test[['Score', 'predict']]"
   ]
  },
  {
   "cell_type": "code",
   "execution_count": 252,
   "metadata": {},
   "outputs": [
    {
     "name": "stdout",
     "output_type": "stream",
     "text": [
      "Mean sqaured error: 0.27607587822210106\n"
     ]
    }
   ],
   "source": [
    "print('Mean sqaured error: ' + str(mean_squared_error(test['Score'], test['predict'])))"
   ]
  }
 ],
 "metadata": {
  "kernelspec": {
   "display_name": "Python 3",
   "language": "python",
   "name": "python3"
  },
  "language_info": {
   "codemirror_mode": {
    "name": "ipython",
    "version": 3
   },
   "file_extension": ".py",
   "mimetype": "text/x-python",
   "name": "python",
   "nbconvert_exporter": "python",
   "pygments_lexer": "ipython3",
   "version": "3.7.6"
  }
 },
 "nbformat": 4,
 "nbformat_minor": 4
}

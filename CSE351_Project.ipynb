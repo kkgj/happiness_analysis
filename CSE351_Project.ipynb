{
  "nbformat": 4,
  "nbformat_minor": 0,
  "metadata": {
    "colab": {
      "name": "CSE351 Project",
      "provenance": []
    },
    "kernelspec": {
      "name": "python3",
      "display_name": "Python 3"
    }
  },
  "cells": [
    {
      "cell_type": "code",
      "metadata": {
        "id": "xHymkaE-OS-r",
        "colab_type": "code",
        "colab": {}
      },
      "source": [
        "import pandas as pd\n",
        "import matplotlib.pyplot as plt\n",
        "import seaborn as sns\n",
        "import numpy as np\n",
        "df_2015 = pd.read_csv(\"2015.csv\")\n",
        "df_2016 = pd.read_csv(\"2016.csv\")\n",
        "df_2017 = pd.read_csv(\"2017.csv\")\n",
        "df_2018 = pd.read_csv(\"2018.csv\").interpolate()"
      ],
      "execution_count": null,
      "outputs": []
    },
    {
      "cell_type": "code",
      "metadata": {
        "id": "Kq1j0-P5FvaF",
        "colab_type": "code",
        "colab": {
          "base_uri": "https://localhost:8080/",
          "height": 150
        },
        "outputId": "75d51bad-fe8c-4b95-e2b2-367c2ff52f7f"
      },
      "source": [
        "print('2015 mean happiness score is {}'.format(df_2015['Happiness Score'].mean()))\n",
        "print('2016 mean happiness score is {}'.format(df_2016['Happiness Score'].mean()))\n",
        "print('2017 mean happiness score is {}'.format(df_2017['Happiness.Score'].mean()))\n",
        "print('2018 mean happiness score is {}'.format(df_2018['Score'].mean()))\n",
        "\n",
        "print('2015 median happiness score is {}'.format(df_2015['Happiness Score'].median()))\n",
        "print('2016 median happiness score is {}'.format(df_2016['Happiness Score'].median()))\n",
        "print('2017 median happiness score is {}'.format(df_2017['Happiness.Score'].median()))\n",
        "print('2018 median happiness score is {}'.format(df_2018['Score'].median()))\n"
      ],
      "execution_count": null,
      "outputs": [
        {
          "output_type": "stream",
          "text": [
            "2015 mean happiness score is 5.3757341772151905\n",
            "2016 mean happiness score is 5.382184713375795\n",
            "2017 mean happiness score is 5.354019355773926\n",
            "2018 mean happiness score is 5.375916666666668\n",
            "2015 median happiness score is 5.2325\n",
            "2016 median happiness score is 5.314\n",
            "2017 median happiness score is 5.27899980545044\n",
            "2018 median happiness score is 5.378\n"
          ],
          "name": "stdout"
        }
      ]
    },
    {
      "cell_type": "code",
      "metadata": {
        "id": "8UoOFgdhRNFj",
        "colab_type": "code",
        "colab": {
          "base_uri": "https://localhost:8080/",
          "height": 345
        },
        "outputId": "93e63a98-a88c-4cbf-a8f8-9b7b63558432"
      },
      "source": [
        "rank = df_2015[['Country', 'Happiness Rank']].merge(df_2016[['Country', 'Happiness Rank']]\n",
        "                                                      , left_on='Country', right_on='Country')\n",
        "rank = rank.merge(df_2017[['Country', 'Happiness.Rank']], left_on='Country', right_on='Country')\n",
        "rank = rank.merge(df_2018[['Country or region', 'Overall rank']], left_on='Country', right_on='Country or region')\n",
        "rank['change'] = (np.abs(rank['Happiness Rank_y'] - rank['Happiness Rank_x']) \n",
        "                                   + np.abs(rank['Happiness.Rank'] - rank['Happiness Rank_y'])\n",
        "                                   + np.abs(rank['Overall rank'] - rank['Happiness.Rank']))\n",
        "rank[['Country', 'change']].sort_values(by='change').head(10)"
      ],
      "execution_count": null,
      "outputs": [
        {
          "output_type": "execute_result",
          "data": {
            "text/html": [
              "<div>\n",
              "<style scoped>\n",
              "    .dataframe tbody tr th:only-of-type {\n",
              "        vertical-align: middle;\n",
              "    }\n",
              "\n",
              "    .dataframe tbody tr th {\n",
              "        vertical-align: top;\n",
              "    }\n",
              "\n",
              "    .dataframe thead th {\n",
              "        text-align: right;\n",
              "    }\n",
              "</style>\n",
              "<table border=\"1\" class=\"dataframe\">\n",
              "  <thead>\n",
              "    <tr style=\"text-align: right;\">\n",
              "      <th></th>\n",
              "      <th>Country</th>\n",
              "      <th>change</th>\n",
              "    </tr>\n",
              "  </thead>\n",
              "  <tbody>\n",
              "    <tr>\n",
              "      <th>6</th>\n",
              "      <td>Netherlands</td>\n",
              "      <td>1</td>\n",
              "    </tr>\n",
              "    <tr>\n",
              "      <th>8</th>\n",
              "      <td>New Zealand</td>\n",
              "      <td>1</td>\n",
              "    </tr>\n",
              "    <tr>\n",
              "      <th>1</th>\n",
              "      <td>Iceland</td>\n",
              "      <td>2</td>\n",
              "    </tr>\n",
              "    <tr>\n",
              "      <th>4</th>\n",
              "      <td>Canada</td>\n",
              "      <td>2</td>\n",
              "    </tr>\n",
              "    <tr>\n",
              "      <th>9</th>\n",
              "      <td>Australia</td>\n",
              "      <td>2</td>\n",
              "    </tr>\n",
              "    <tr>\n",
              "      <th>18</th>\n",
              "      <td>Belgium</td>\n",
              "      <td>3</td>\n",
              "    </tr>\n",
              "    <tr>\n",
              "      <th>7</th>\n",
              "      <td>Sweden</td>\n",
              "      <td>3</td>\n",
              "    </tr>\n",
              "    <tr>\n",
              "      <th>139</th>\n",
              "      <td>Rwanda</td>\n",
              "      <td>3</td>\n",
              "    </tr>\n",
              "    <tr>\n",
              "      <th>12</th>\n",
              "      <td>Austria</td>\n",
              "      <td>3</td>\n",
              "    </tr>\n",
              "    <tr>\n",
              "      <th>45</th>\n",
              "      <td>Italy</td>\n",
              "      <td>3</td>\n",
              "    </tr>\n",
              "  </tbody>\n",
              "</table>\n",
              "</div>"
            ],
            "text/plain": [
              "         Country  change\n",
              "6    Netherlands       1\n",
              "8    New Zealand       1\n",
              "1        Iceland       2\n",
              "4         Canada       2\n",
              "9      Australia       2\n",
              "18       Belgium       3\n",
              "7         Sweden       3\n",
              "139       Rwanda       3\n",
              "12       Austria       3\n",
              "45         Italy       3"
            ]
          },
          "metadata": {
            "tags": []
          },
          "execution_count": 37
        }
      ]
    },
    {
      "cell_type": "code",
      "metadata": {
        "id": "mlPRAIb2aDFt",
        "colab_type": "code",
        "colab": {}
      },
      "source": [
        "rank['increased rank'] = rank['Overall rank'] - rank['Happiness Rank_x']\n",
        "rank = rank[['Country', 'increased rank']].sort_values(by='increased rank', ascending=False)\n",
        "increased_rank = rank[rank['increased rank']>0]"
      ],
      "execution_count": null,
      "outputs": []
    },
    {
      "cell_type": "code",
      "metadata": {
        "id": "2qlrP8XDa8uH",
        "colab_type": "code",
        "colab": {
          "base_uri": "https://localhost:8080/",
          "height": 1000
        },
        "outputId": "878213ab-227f-4b12-c478-3563caccd6d0"
      },
      "source": [
        "increased_rank"
      ],
      "execution_count": null,
      "outputs": [
        {
          "output_type": "execute_result",
          "data": {
            "text/html": [
              "<div>\n",
              "<style scoped>\n",
              "    .dataframe tbody tr th:only-of-type {\n",
              "        vertical-align: middle;\n",
              "    }\n",
              "\n",
              "    .dataframe tbody tr th {\n",
              "        vertical-align: top;\n",
              "    }\n",
              "\n",
              "    .dataframe thead th {\n",
              "        text-align: right;\n",
              "    }\n",
              "</style>\n",
              "<table border=\"1\" class=\"dataframe\">\n",
              "  <thead>\n",
              "    <tr style=\"text-align: right;\">\n",
              "      <th></th>\n",
              "      <th>Country</th>\n",
              "      <th>increased rank</th>\n",
              "    </tr>\n",
              "  </thead>\n",
              "  <tbody>\n",
              "    <tr>\n",
              "      <th>21</th>\n",
              "      <td>Venezuela</td>\n",
              "      <td>79</td>\n",
              "    </tr>\n",
              "    <tr>\n",
              "      <th>78</th>\n",
              "      <td>Zambia</td>\n",
              "      <td>40</td>\n",
              "    </tr>\n",
              "    <tr>\n",
              "      <th>104</th>\n",
              "      <td>Liberia</td>\n",
              "      <td>33</td>\n",
              "    </tr>\n",
              "    <tr>\n",
              "      <th>103</th>\n",
              "      <td>Zimbabwe</td>\n",
              "      <td>29</td>\n",
              "    </tr>\n",
              "    <tr>\n",
              "      <th>107</th>\n",
              "      <td>Haiti</td>\n",
              "      <td>29</td>\n",
              "    </tr>\n",
              "    <tr>\n",
              "      <th>99</th>\n",
              "      <td>Ukraine</td>\n",
              "      <td>27</td>\n",
              "    </tr>\n",
              "    <tr>\n",
              "      <th>67</th>\n",
              "      <td>Indonesia</td>\n",
              "      <td>22</td>\n",
              "    </tr>\n",
              "    <tr>\n",
              "      <th>57</th>\n",
              "      <td>Croatia</td>\n",
              "      <td>20</td>\n",
              "    </tr>\n",
              "    <tr>\n",
              "      <th>68</th>\n",
              "      <td>Vietnam</td>\n",
              "      <td>20</td>\n",
              "    </tr>\n",
              "    <tr>\n",
              "      <th>106</th>\n",
              "      <td>Sudan</td>\n",
              "      <td>19</td>\n",
              "    </tr>\n",
              "    <tr>\n",
              "      <th>72</th>\n",
              "      <td>Bhutan</td>\n",
              "      <td>18</td>\n",
              "    </tr>\n",
              "    <tr>\n",
              "      <th>115</th>\n",
              "      <td>Botswana</td>\n",
              "      <td>18</td>\n",
              "    </tr>\n",
              "    <tr>\n",
              "      <th>86</th>\n",
              "      <td>Albania</td>\n",
              "      <td>17</td>\n",
              "    </tr>\n",
              "    <tr>\n",
              "      <th>105</th>\n",
              "      <td>India</td>\n",
              "      <td>16</td>\n",
              "    </tr>\n",
              "    <tr>\n",
              "      <th>62</th>\n",
              "      <td>Algeria</td>\n",
              "      <td>16</td>\n",
              "    </tr>\n",
              "    <tr>\n",
              "      <th>123</th>\n",
              "      <td>Yemen</td>\n",
              "      <td>16</td>\n",
              "    </tr>\n",
              "    <tr>\n",
              "      <th>118</th>\n",
              "      <td>Malawi</td>\n",
              "      <td>16</td>\n",
              "    </tr>\n",
              "    <tr>\n",
              "      <th>47</th>\n",
              "      <td>Moldova</td>\n",
              "      <td>15</td>\n",
              "    </tr>\n",
              "    <tr>\n",
              "      <th>70</th>\n",
              "      <td>Kyrgyzstan</td>\n",
              "      <td>15</td>\n",
              "    </tr>\n",
              "    <tr>\n",
              "      <th>54</th>\n",
              "      <td>Belarus</td>\n",
              "      <td>14</td>\n",
              "    </tr>\n",
              "    <tr>\n",
              "      <th>71</th>\n",
              "      <td>Nigeria</td>\n",
              "      <td>13</td>\n",
              "    </tr>\n",
              "    <tr>\n",
              "      <th>108</th>\n",
              "      <td>Congo (Kinshasa)</td>\n",
              "      <td>12</td>\n",
              "    </tr>\n",
              "    <tr>\n",
              "      <th>15</th>\n",
              "      <td>Brazil</td>\n",
              "      <td>12</td>\n",
              "    </tr>\n",
              "    <tr>\n",
              "      <th>32</th>\n",
              "      <td>Thailand</td>\n",
              "      <td>12</td>\n",
              "    </tr>\n",
              "    <tr>\n",
              "      <th>48</th>\n",
              "      <td>Paraguay</td>\n",
              "      <td>11</td>\n",
              "    </tr>\n",
              "    <tr>\n",
              "      <th>46</th>\n",
              "      <td>Bolivia</td>\n",
              "      <td>11</td>\n",
              "    </tr>\n",
              "    <tr>\n",
              "      <th>42</th>\n",
              "      <td>South Korea</td>\n",
              "      <td>10</td>\n",
              "    </tr>\n",
              "    <tr>\n",
              "      <th>22</th>\n",
              "      <td>Singapore</td>\n",
              "      <td>10</td>\n",
              "    </tr>\n",
              "    <tr>\n",
              "      <th>13</th>\n",
              "      <td>Mexico</td>\n",
              "      <td>10</td>\n",
              "    </tr>\n",
              "    <tr>\n",
              "      <th>75</th>\n",
              "      <td>Jordan</td>\n",
              "      <td>8</td>\n",
              "    </tr>\n",
              "    <tr>\n",
              "      <th>41</th>\n",
              "      <td>Japan</td>\n",
              "      <td>8</td>\n",
              "    </tr>\n",
              "    <tr>\n",
              "      <th>10</th>\n",
              "      <td>Israel</td>\n",
              "      <td>8</td>\n",
              "    </tr>\n",
              "    <tr>\n",
              "      <th>73</th>\n",
              "      <td>Azerbaijan</td>\n",
              "      <td>7</td>\n",
              "    </tr>\n",
              "    <tr>\n",
              "      <th>58</th>\n",
              "      <td>Libya</td>\n",
              "      <td>7</td>\n",
              "    </tr>\n",
              "    <tr>\n",
              "      <th>132</th>\n",
              "      <td>Tanzania</td>\n",
              "      <td>7</td>\n",
              "    </tr>\n",
              "    <tr>\n",
              "      <th>53</th>\n",
              "      <td>Peru</td>\n",
              "      <td>7</td>\n",
              "    </tr>\n",
              "    <tr>\n",
              "      <th>97</th>\n",
              "      <td>Bangladesh</td>\n",
              "      <td>6</td>\n",
              "    </tr>\n",
              "    <tr>\n",
              "      <th>36</th>\n",
              "      <td>Kuwait</td>\n",
              "      <td>6</td>\n",
              "    </tr>\n",
              "    <tr>\n",
              "      <th>49</th>\n",
              "      <td>Kazakhstan</td>\n",
              "      <td>6</td>\n",
              "    </tr>\n",
              "    <tr>\n",
              "      <th>124</th>\n",
              "      <td>Angola</td>\n",
              "      <td>5</td>\n",
              "    </tr>\n",
              "    <tr>\n",
              "      <th>100</th>\n",
              "      <td>Iraq</td>\n",
              "      <td>5</td>\n",
              "    </tr>\n",
              "    <tr>\n",
              "      <th>110</th>\n",
              "      <td>Ethiopia</td>\n",
              "      <td>5</td>\n",
              "    </tr>\n",
              "    <tr>\n",
              "      <th>95</th>\n",
              "      <td>Tunisia</td>\n",
              "      <td>4</td>\n",
              "    </tr>\n",
              "    <tr>\n",
              "      <th>0</th>\n",
              "      <td>Switzerland</td>\n",
              "      <td>4</td>\n",
              "    </tr>\n",
              "    <tr>\n",
              "      <th>26</th>\n",
              "      <td>Qatar</td>\n",
              "      <td>4</td>\n",
              "    </tr>\n",
              "    <tr>\n",
              "      <th>31</th>\n",
              "      <td>Colombia</td>\n",
              "      <td>4</td>\n",
              "    </tr>\n",
              "    <tr>\n",
              "      <th>14</th>\n",
              "      <td>United States</td>\n",
              "      <td>3</td>\n",
              "    </tr>\n",
              "    <tr>\n",
              "      <th>4</th>\n",
              "      <td>Canada</td>\n",
              "      <td>2</td>\n",
              "    </tr>\n",
              "    <tr>\n",
              "      <th>112</th>\n",
              "      <td>Mauritania</td>\n",
              "      <td>2</td>\n",
              "    </tr>\n",
              "    <tr>\n",
              "      <th>23</th>\n",
              "      <td>Panama</td>\n",
              "      <td>2</td>\n",
              "    </tr>\n",
              "    <tr>\n",
              "      <th>77</th>\n",
              "      <td>China</td>\n",
              "      <td>2</td>\n",
              "    </tr>\n",
              "    <tr>\n",
              "      <th>1</th>\n",
              "      <td>Iceland</td>\n",
              "      <td>2</td>\n",
              "    </tr>\n",
              "    <tr>\n",
              "      <th>114</th>\n",
              "      <td>Armenia</td>\n",
              "      <td>2</td>\n",
              "    </tr>\n",
              "    <tr>\n",
              "      <th>11</th>\n",
              "      <td>Costa Rica</td>\n",
              "      <td>1</td>\n",
              "    </tr>\n",
              "    <tr>\n",
              "      <th>116</th>\n",
              "      <td>Myanmar</td>\n",
              "      <td>1</td>\n",
              "    </tr>\n",
              "    <tr>\n",
              "      <th>7</th>\n",
              "      <td>Sweden</td>\n",
              "      <td>1</td>\n",
              "    </tr>\n",
              "  </tbody>\n",
              "</table>\n",
              "</div>"
            ],
            "text/plain": [
              "              Country  increased rank\n",
              "21          Venezuela              79\n",
              "78             Zambia              40\n",
              "104           Liberia              33\n",
              "103          Zimbabwe              29\n",
              "107             Haiti              29\n",
              "99            Ukraine              27\n",
              "67          Indonesia              22\n",
              "57            Croatia              20\n",
              "68            Vietnam              20\n",
              "106             Sudan              19\n",
              "72             Bhutan              18\n",
              "115          Botswana              18\n",
              "86            Albania              17\n",
              "105             India              16\n",
              "62            Algeria              16\n",
              "123             Yemen              16\n",
              "118            Malawi              16\n",
              "47            Moldova              15\n",
              "70         Kyrgyzstan              15\n",
              "54            Belarus              14\n",
              "71            Nigeria              13\n",
              "108  Congo (Kinshasa)              12\n",
              "15             Brazil              12\n",
              "32           Thailand              12\n",
              "48           Paraguay              11\n",
              "46            Bolivia              11\n",
              "42        South Korea              10\n",
              "22          Singapore              10\n",
              "13             Mexico              10\n",
              "75             Jordan               8\n",
              "41              Japan               8\n",
              "10             Israel               8\n",
              "73         Azerbaijan               7\n",
              "58              Libya               7\n",
              "132          Tanzania               7\n",
              "53               Peru               7\n",
              "97         Bangladesh               6\n",
              "36             Kuwait               6\n",
              "49         Kazakhstan               6\n",
              "124            Angola               5\n",
              "100              Iraq               5\n",
              "110          Ethiopia               5\n",
              "95            Tunisia               4\n",
              "0         Switzerland               4\n",
              "26              Qatar               4\n",
              "31           Colombia               4\n",
              "14      United States               3\n",
              "4              Canada               2\n",
              "112        Mauritania               2\n",
              "23             Panama               2\n",
              "77              China               2\n",
              "1             Iceland               2\n",
              "114           Armenia               2\n",
              "11         Costa Rica               1\n",
              "116           Myanmar               1\n",
              "7              Sweden               1"
            ]
          },
          "metadata": {
            "tags": []
          },
          "execution_count": 44
        }
      ]
    },
    {
      "cell_type": "code",
      "metadata": {
        "id": "zQXsd_d5Ni_Z",
        "colab_type": "code",
        "colab": {
          "base_uri": "https://localhost:8080/",
          "height": 296
        },
        "outputId": "3719d515-1327-41d5-b1b5-699b435bddfe"
      },
      "source": [
        "gdp = sns.regplot(x=\"GDP per capita\", y=\"Score\", data=df_2018)\n",
        "df_2018['GDP per capita'].corr(df_2018['Score'])"
      ],
      "execution_count": null,
      "outputs": [
        {
          "output_type": "execute_result",
          "data": {
            "text/plain": [
              "0.8021239467301907"
            ]
          },
          "metadata": {
            "tags": []
          },
          "execution_count": 15
        },
        {
          "output_type": "display_data",
          "data": {
            "image/png": "[encoded data removed]",
            "text/plain": [
              "<Figure size 432x288 with 1 Axes>"
            ]
          },
          "metadata": {
            "tags": [],
            "needs_background": "light"
          }
        }
      ]
    },
    {
      "cell_type": "code",
      "metadata": {
        "id": "kEVwWL38OFB8",
        "colab_type": "code",
        "colab": {
          "base_uri": "https://localhost:8080/",
          "height": 296
        },
        "outputId": "d2db38ea-a975-4f7a-8385-c56a403d8962"
      },
      "source": [
        "social_support = sns.regplot(x=\"Social support\", y=\"Score\", data=df_2018)\n",
        "df_2018['Social support'].corr(df_2018['Score'])"
      ],
      "execution_count": null,
      "outputs": [
        {
          "output_type": "execute_result",
          "data": {
            "text/plain": [
              "0.7457601649725754"
            ]
          },
          "metadata": {
            "tags": []
          },
          "execution_count": 12
        },
        {
          "output_type": "display_data",
          "data": {
            "image/png": "[encoded data removed]",
            "text/plain": [
              "<Figure size 432x288 with 1 Axes>"
            ]
          },
          "metadata": {
            "tags": [],
            "needs_background": "light"
          }
        }
      ]
    },
    {
      "cell_type": "code",
      "metadata": {
        "id": "uJxNkcPbQCiE",
        "colab_type": "code",
        "colab": {
          "base_uri": "https://localhost:8080/",
          "height": 296
        },
        "outputId": "2058728a-a182-4069-f0dc-6c9d48ab680f"
      },
      "source": [
        "Healthy= sns.regplot(x=\"Healthy life expectancy\", y=\"Score\", data=df_2018)\n",
        "df_2018['Healthy life expectancy'].corr(df_2018['Score'])"
      ],
      "execution_count": null,
      "outputs": [
        {
          "output_type": "execute_result",
          "data": {
            "text/plain": [
              "0.7758136033302464"
            ]
          },
          "metadata": {
            "tags": []
          },
          "execution_count": 88
        },
        {
          "output_type": "display_data",
          "data": {
            "image/png": "[encoded data removed]",
            "text/plain": [
              "<Figure size 432x288 with 1 Axes>"
            ]
          },
          "metadata": {
            "tags": [],
            "needs_background": "light"
          }
        }
      ]
    },
    {
      "cell_type": "code",
      "metadata": {
        "id": "I8afK0hYP6ZQ",
        "colab_type": "code",
        "colab": {
          "base_uri": "https://localhost:8080/",
          "height": 296
        },
        "outputId": "06349a7e-7bcd-4066-9982-852779746ada"
      },
      "source": [
        "freedom = sns.regplot(x=\"Freedom to make life choices\", y=\"Score\", data=df_2018)\n",
        "df_2018['Freedom to make life choices'].corr(df_2018['Score'])"
      ],
      "execution_count": null,
      "outputs": [
        {
          "output_type": "execute_result",
          "data": {
            "text/plain": [
              "0.5442799358332934"
            ]
          },
          "metadata": {
            "tags": []
          },
          "execution_count": 87
        },
        {
          "output_type": "display_data",
          "data": {
            "image/png": "[encoded data removed]",
            "text/plain": [
              "<Figure size 432x288 with 1 Axes>"
            ]
          },
          "metadata": {
            "tags": [],
            "needs_background": "light"
          }
        }
      ]
    },
    {
      "cell_type": "code",
      "metadata": {
        "id": "ZqzpnAxfQOTi",
        "colab_type": "code",
        "colab": {
          "base_uri": "https://localhost:8080/",
          "height": 296
        },
        "outputId": "8f09e2fa-da67-4e42-a366-a3809d931d8b"
      },
      "source": [
        "Generosity= sns.regplot(x=\"Generosity\", y=\"Score\", data=df_2018)\n",
        "df_2018['Generosity'].corr(df_2018['Score'])"
      ],
      "execution_count": null,
      "outputs": [
        {
          "output_type": "execute_result",
          "data": {
            "text/plain": [
              "0.1358247470811378"
            ]
          },
          "metadata": {
            "tags": []
          },
          "execution_count": 89
        },
        {
          "output_type": "display_data",
          "data": {
            "image/png": "[encoded data removed]",
            "text/plain": [
              "<Figure size 432x288 with 1 Axes>"
            ]
          },
          "metadata": {
            "tags": [],
            "needs_background": "light"
          }
        }
      ]
    },
    {
      "cell_type": "code",
      "metadata": {
        "id": "vNOXs8DyQUVZ",
        "colab_type": "code",
        "colab": {
          "base_uri": "https://localhost:8080/",
          "height": 296
        },
        "outputId": "6f9024be-4631-43fa-98f1-f96dfc67ae27"
      },
      "source": [
        "corruption= sns.regplot(x=\"Perceptions of corruption\", y=\"Score\", data=df_2018)\n",
        "df_2018['Perceptions of corruption'].corr(df_2018['Score'])"
      ],
      "execution_count": null,
      "outputs": [
        {
          "output_type": "execute_result",
          "data": {
            "text/plain": [
              "0.4064320705947888"
            ]
          },
          "metadata": {
            "tags": []
          },
          "execution_count": 90
        },
        {
          "output_type": "display_data",
          "data": {
            "image/png": "[encoded data removed]",
            "text/plain": [
              "<Figure size 432x288 with 1 Axes>"
            ]
          },
          "metadata": {
            "tags": [],
            "needs_background": "light"
          }
        }
      ]
    },
    {
      "cell_type": "markdown",
      "metadata": {
        "id": "WthExDn9b2kz",
        "colab_type": "text"
      },
      "source": [
        "['GDP per capita','Social support','Healthy life expectancy',\n",
        ",'Freedom to make life choices','Generosity','Perceptions of corruption']are the features contributing to the score of happiness. The feature that has the highest correlation coefficient is GDP (around 0.8), the feature has the least correlation coefficient is 'Generosity' (around 0.14). If I were a president of the country, I will try to improve the ['GDP per capita','Social support','Healthy life expectancy'] of the country mostly since they have the highest correlation coefficient, and focus on the rest if I still have leftover resources. "
      ]
    },
    {
      "cell_type": "markdown",
      "metadata": {
        "id": "gRiXoFk6WF9p",
        "colab_type": "text"
      },
      "source": [
        ""
      ]
    },
    {
      "cell_type": "code",
      "metadata": {
        "id": "EkGV-csPQZS0",
        "colab_type": "code",
        "colab": {}
      },
      "source": [
        "from sklearn import linear_model\n",
        "train_X = df_2018[['GDP per capita','Social support','Healthy life expectancy',\n",
        "                   'Freedom to make life choices','Generosity','Perceptions of corruption']]\n",
        "train_y = df_2018['Score']            \n",
        "reg = linear_model.LinearRegression()\n",
        "reg.fit(train_X,train_y)\n",
        "reg.coef_       "
      ],
      "execution_count": null,
      "outputs": []
    },
    {
      "cell_type": "code",
      "metadata": {
        "id": "rBvvwMrqUpaV",
        "colab_type": "code",
        "colab": {}
      },
      "source": [
        "test_df= pd.read_csv(\"2019.csv\")\n",
        "test_X = test_df[['GDP per capita','Social support','Healthy life expectancy',\n",
        "                   'Freedom to make life choices','Generosity','Perceptions of corruption']]\n",
        "test_y = test_df['Score']          \n",
        "y_pred= reg.predict(test_X)\n",
        "df1 = pd.DataFrame({'Actual': test_y, 'Predicted': y_pred})\n",
        "#df1.head(20)\n",
        "df1.describe()"
      ],
      "execution_count": null,
      "outputs": []
    },
    {
      "cell_type": "code",
      "metadata": {
        "id": "cMfsgaeuVZ7u",
        "colab_type": "code",
        "colab": {}
      },
      "source": [
        "#model 2  KNeighborsRegressor\n",
        "from sklearn.neighbors import KNeighborsRegressor\n",
        "reg_knn = KNeighborsRegressor(n_neighbors=3)\n",
        "reg_knn.fit(train_X, train_y)"
      ],
      "execution_count": null,
      "outputs": []
    },
    {
      "cell_type": "code",
      "metadata": {
        "id": "HZNbpZ_8VcVz",
        "colab_type": "code",
        "colab": {}
      },
      "source": [
        "y_pred_knn= reg_knn.predict(test_X)\n",
        "df2 = pd.DataFrame({'Actual': test_y, 'Predicted': y_pred_knn})\n",
        "#df2.head(20)\n",
        "df2.describe()"
      ],
      "execution_count": null,
      "outputs": []
    },
    {
      "cell_type": "code",
      "metadata": {
        "id": "PyFOv6_ken9w",
        "colab_type": "code",
        "colab": {}
      },
      "source": [
        "df1.describe()"
      ],
      "execution_count": null,
      "outputs": []
    }
  ]
}